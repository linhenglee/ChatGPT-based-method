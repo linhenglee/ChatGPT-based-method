{
 "cells": [
  {
   "cell_type": "code",
   "execution_count": 1,
   "metadata": {},
   "outputs": [
    {
     "name": "stdout",
     "output_type": "stream",
     "text": [
      "Rate limit exceeded, retrying in 60 seconds...\n"
     ]
    }
   ],
   "source": [
    "import time\n",
    "from openai import OpenAI, RateLimitError\n",
    "\n",
    "client = OpenAI(\n",
    "    # defaults to os.environ.get(\"OPENAI_API_KEY\")\n",
    "    api_key=\"sk-Cbg9C13UKtSQJE7HXdMRRktxVNmBmM20UN8f8WOmyCy6oq0r\",\n",
    "    base_url=\"https://api.chatanywhere.tech/v1\"\n",
    ")\n",
    "\n",
    "def gpt_35_api(messages: list):\n",
    "    completion = client.chat.completions.create(model=\"gpt-3.5-turbo\", messages=messages)\n",
    "    return completion.choices[0].message.content\n",
    "\n",
    "def gpt_35_api_with_retry(messages, max_retries=5, retry_delay=60):\n",
    "    for attempt in range(max_retries):\n",
    "        try:\n",
    "            # 尝试调用API\n",
    "            result = gpt_35_api(messages).strip().split('\\n')\n",
    "            return result\n",
    "        except RateLimitError:\n",
    "            print(f\"Rate limit exceeded, retrying in {retry_delay} seconds...\")\n",
    "            time.sleep(retry_delay)\n",
    "    raise Exception(\"API request failed after maximum number of retries.\")\n",
    "\n",
    "start = time.time()\n",
    "results = []\n",
    "with open('car_reports.txt', 'r') as file:\n",
    "    reports = file.read()\n",
    "    lines = reports.split('\\n')\n",
    "    prompt = (\"Can you analyze this text and format your response as follows? \\n\"\n",
    "        \"车辆型号: [Vehicle Model],\\n\"\n",
    "        \"引擎排量: [Engine Displacement],\\n\"\n",
    "        \"生产年份: [Production Year],\\n\"\n",
    "        \"车辆排量: [Vehicle Fuel Tank Capacity],\\n\"\n",
    "        \"车辆油耗: [Fuel Consumption],\\n\"\n",
    "        \"变速箱类型: [Transmission Type],\\n\")\n",
    "    for line in lines:\n",
    "        report = line.strip()\n",
    "        content = (f\"The text is:{report}\\n\"\n",
    "                   f\"{prompt}\")\n",
    "        messages=[\n",
    "            {\"role\": \"system\", \"content\": \"You are a helpful assistant.\"},\n",
    "            {\"role\": \"user\", \"content\": content}\n",
    "            ]\n",
    "        result = gpt_35_api_with_retry(messages).strip().split('\\n')\n",
    "        print(result)\n",
    "        results.append(result)\n",
    "end = time.time()\n",
    "print(f\"Time taken: {end-start}\")     "
   ]
  }
 ],
 "metadata": {
  "kernelspec": {
   "display_name": "Chatgpt",
   "language": "python",
   "name": "python3"
  },
  "language_info": {
   "codemirror_mode": {
    "name": "ipython",
    "version": 3
   },
   "file_extension": ".py",
   "mimetype": "text/x-python",
   "name": "python",
   "nbconvert_exporter": "python",
   "pygments_lexer": "ipython3",
   "version": "3.11.8"
  }
 },
 "nbformat": 4,
 "nbformat_minor": 2
}
