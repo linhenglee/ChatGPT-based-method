{
 "cells": [
  {
   "cell_type": "code",
   "execution_count": 1,
   "metadata": {},
   "outputs": [],
   "source": [
    "from openai import OpenAI\n",
    "\n",
    "client = OpenAI(\n",
    "    # defaults to os.environ.get(\"OPENAI_API_KEY\")\n",
    "    api_key=\"sk-Cbg9C13UKtSQJE7HXdMRRktxVNmBmM20UN8f8WOmyCy6oq0r\",\n",
    "    base_url=\"https://api.chatanywhere.tech/v1\"\n",
    ")\n",
    "\n",
    "def gpt_35_api(messages: list):\n",
    "    completion = client.chat.completions.create(model=\"gpt-3.5-turbo\", messages=messages)\n",
    "    print(completion.choices[0].message.content)\n",
    "\n",
    "messages=[\n",
    "    {\"role\": \"system\", \"content\": \"You are a helpful assistant.\"},\n",
    "    {\"role\": \"user\", \"content\": (\n",
    "        \"The text is: 'The Toyota Corolla has a 13.2-gallon fuel tank. Having the \"\n",
    "        \"1.8L 4-cylinder powertrain, drivers will get the estimated 33 miles per \"\n",
    "        \"gallon city and highway combined. Love the open road in the 2022 Toyota \"\n",
    "        \"Corolla, whether you’re cruising around the town or stuck in some traffic \"\n",
    "        \"on your daily commute. The Toyota Corolla will have you on the road for \"\n",
    "        \"plenty of miles before needing to stop at the gas station anytime soon.' \"\n",
    "        \"Can you analyze this text and format your response as follows?\\n\\n\"\n",
    "        \"车辆型号: [Vehicle Model]\\n\"\n",
    "        \"引擎排量: [Engine Displacement]\\n\"\n",
    "        \"生产年份: [Production Year]\\n\"\n",
    "        \"车辆排量: [Vehicle Fuel Tank Capacity]\\n\"\n",
    "        \"车辆油耗: [Fuel Consumption]\\n\"\n",
    "        \"变速箱类型: [Transmission Type]\\n\"\n",
    "    )}\n",
    "]"
   ]
  },
  {
   "cell_type": "code",
   "execution_count": 2,
   "metadata": {},
   "outputs": [
    {
     "name": "stdout",
     "output_type": "stream",
     "text": [
      "车辆型号: Toyota Corolla\n",
      "引擎排量: 1.8L 4-cylinder\n",
      "生产年份: 2022\n",
      "车辆排量: 13.2 gallons\n",
      "车辆油耗: 33 miles per gallon city and highway combined\n",
      "变速箱类型: Not mentioned\n"
     ]
    }
   ],
   "source": [
    "gpt_35_api(messages)"
   ]
  },
  {
   "cell_type": "code",
   "execution_count": null,
   "metadata": {},
   "outputs": [],
   "source": [
    ""
   ]
  }
 ],
 "metadata": {
  "kernelspec": {
   "display_name": "Chatgpt",
   "language": "python",
   "name": "python3"
  },
  "language_info": {
   "codemirror_mode": {
    "name": "ipython",
    "version": 3.0
   },
   "file_extension": ".py",
   "mimetype": "text/x-python",
   "name": "python",
   "nbconvert_exporter": "python",
   "pygments_lexer": "ipython3",
   "version": "3.11.8"
  }
 },
 "nbformat": 4,
 "nbformat_minor": 0
}